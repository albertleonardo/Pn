{
 "cells": [
  {
   "cell_type": "code",
   "execution_count": 1,
   "metadata": {},
   "outputs": [],
   "source": [
    "import glob\n",
    "import pickle\n",
    "import scipy.stats\n",
    "import numpy as np\n",
    "import matplotlib.pyplot as plt\n",
    "\n",
    "plt.rcParams['font.family']='Helvetica'"
   ]
  },
  {
   "cell_type": "code",
   "execution_count": 45,
   "metadata": {},
   "outputs": [],
   "source": [
    "from keras.models import Model, Sequential\n",
    "from keras.layers import Conv1D,LSTM,Bidirectional,GRU,Input,Dropout,BatchNormalization,Reshape,Activation\n",
    "from keras.layers import UpSampling1D,UpSampling2D\n"
   ]
  },
  {
   "cell_type": "code",
   "execution_count": 55,
   "metadata": {},
   "outputs": [],
   "source": [
    "def generate_gaussian(mean,std=10,length=30000):\n",
    "    x_values = np.arange(0,length)\n",
    "    y_values = scipy.stats.norm(mean,std)\n",
    "    y_values = y_values.pdf(x_values)\n",
    "    #re-escale to peak at one\n",
    "    y_values = y_values/np.max(y_values)\n",
    "    # truncate at 2 sigmas\n",
    "    y_truncated = np.zeros((30000))\n",
    "    y_truncated[int(mean-2*std):int(mean+2*std)] = y_values[int(mean-2*std):int(mean+2*std)]\n",
    "    \n",
    "    return y_values,y_truncated\n",
    "\n",
    "def generate_box(index1,index2):\n",
    "    y_label = np.zeros((30000))\n",
    "    end = int((index2-index1)*1.4)\n",
    "    y_label[int(index1):int(index2)+end] = 1\n",
    "    return y_label\n",
    "\n",
    "def create_training_example(filename):\n",
    "    # load the pickle file\n",
    "    a_file = open(filename,'rb')\n",
    "    data  = pickle.load(a_file)\n",
    "    x     = data['data']\n",
    "    # check if the initial phase is Pg or Pn\n",
    "    if data['Pn']!=0:\n",
    "        box  = generate_box(data['Pn'],data['Sn'])\n",
    "        _, y_pn = generate_gaussian(mean=data['Pn'])\n",
    "        \n",
    "    if data['Pg']!=0:\n",
    "        box  = generate_box(data['Pg'],data['Sg'])\n",
    "        _, y_pg = generate_gaussian(mean=data['Pg'])\n",
    "        \n",
    "    if data['Pn']==0:\n",
    "        y_pn = np.zeros(30000)   \n",
    "    if data['Pg']==0:\n",
    "        y_pg = np.zeros(30000)\n",
    "        \n",
    "        \n",
    "    if data['Sn']==0:\n",
    "        y_sn = np.zeros(30000)\n",
    "    if data['Sn']!=0:\n",
    "        _, y_sn = generate_gaussian(mean=data['Sn'])\n",
    "    \n",
    "    if data['Sg']==0:\n",
    "        y_sg = np.zeros(30000)\n",
    "    if data['Sg']!=0:\n",
    "        _,y_sg = generate_gaussian(mean=data['Sg'])\n",
    "    \n",
    "    y = (box,y_pg,y_pn,y_sg,y_sn)\n",
    "        \n",
    "    return x,y\n",
    "\n",
    "def plot_example(x,y):\n",
    "    plt.figure(figsize=(15,6))    \n",
    "    for i in range(x.shape[0]):\n",
    "        plt.subplot(3,1,i+1)\n",
    "        \n",
    "        plt.plot(x[i,:],c='k',linewidth=0.3,alpha=0.5)\n",
    "        plt.plot(y)\n",
    "        plt.xlim(0,30000)\n",
    "        \n",
    "def load_multiple(m):\n",
    "    \"\"\"\n",
    "    Loads m examples and concatentaes them into an input and output tensor\n",
    "    \"\"\"\n",
    "    filenames = glob.glob('data*pkl')[:m]\n",
    "    # initialize tensors\n",
    "    X = np.zeros((m,3,30000))\n",
    "    Y = np.zeros((m,30000))\n",
    "    \n",
    "    for i,filename in enumerate(filenames):\n",
    "        x,y = create_training_example(filename)\n",
    "        X[i,:,:] = x\n",
    "        Y[i,:]   = y\n",
    "    return X,Y"
   ]
  },
  {
   "cell_type": "code",
   "execution_count": null,
   "metadata": {
    "scrolled": false
   },
   "outputs": [],
   "source": [
    "x1,y1 = create_training_example('data__Pn_3016.pkl')\n",
    "plot_example(x1,y1)"
   ]
  },
  {
   "cell_type": "code",
   "execution_count": 5,
   "metadata": {},
   "outputs": [
    {
     "name": "stdout",
     "output_type": "stream",
     "text": [
      "(100, 3, 30000) (100, 30000)\n"
     ]
    }
   ],
   "source": [
    "X_train,Y_train = load_multiple(100)\n",
    "print(X_train.shape,Y_train.shape)"
   ]
  },
  {
   "cell_type": "code",
   "execution_count": 51,
   "metadata": {},
   "outputs": [],
   "source": [
    "def model(input_shape):\n",
    "    \n",
    "    \n",
    "    X_input=Input(shape=input_shape)\n",
    "    \n",
    "    # A dense block\n",
    "    X = Conv1D(filters=24,kernel_size=3,strides=2)(X_input)\n",
    "    X = BatchNormalization()(X)\n",
    "    X = Activation('relu')(X)\n",
    "    X = Dropout(rate=0.8)(X)\n",
    "    \n",
    "    # Upsample\n",
    "    #X = UpSampling2D(size=(1,2))(X)\n",
    "    X = UpSampling1D(size=2)(X)\n",
    "    \n",
    "    \n",
    "    model = Model(inputs=X_input,outputs=X)\n",
    "    \n",
    "    return model"
   ]
  },
  {
   "cell_type": "code",
   "execution_count": 52,
   "metadata": {},
   "outputs": [],
   "source": [
    "#model = model(input_shape=(X_train.shape[0],X_train.shape[1]))\n",
    "model = model(input_shape=(3,30000))"
   ]
  },
  {
   "cell_type": "code",
   "execution_count": 53,
   "metadata": {},
   "outputs": [
    {
     "name": "stdout",
     "output_type": "stream",
     "text": [
      "Model: \"model_11\"\n",
      "_________________________________________________________________\n",
      "Layer (type)                 Output Shape              Param #   \n",
      "=================================================================\n",
      "input_17 (InputLayer)        (None, 3, 30000)          0         \n",
      "_________________________________________________________________\n",
      "conv1d_17 (Conv1D)           (None, 1, 24)             2160024   \n",
      "_________________________________________________________________\n",
      "batch_normalization_15 (Batc (None, 1, 24)             96        \n",
      "_________________________________________________________________\n",
      "activation_15 (Activation)   (None, 1, 24)             0         \n",
      "_________________________________________________________________\n",
      "dropout_15 (Dropout)         (None, 1, 24)             0         \n",
      "_________________________________________________________________\n",
      "up_sampling1d_5 (UpSampling1 (None, 2, 24)             0         \n",
      "=================================================================\n",
      "Total params: 2,160,120\n",
      "Trainable params: 2,160,072\n",
      "Non-trainable params: 48\n",
      "_________________________________________________________________\n"
     ]
    }
   ],
   "source": [
    "model.summary()"
   ]
  },
  {
   "cell_type": "code",
   "execution_count": null,
   "metadata": {},
   "outputs": [],
   "source": []
  }
 ],
 "metadata": {
  "kernelspec": {
   "display_name": "Python 3",
   "language": "python",
   "name": "python3"
  },
  "language_info": {
   "codemirror_mode": {
    "name": "ipython",
    "version": 3
   },
   "file_extension": ".py",
   "mimetype": "text/x-python",
   "name": "python",
   "nbconvert_exporter": "python",
   "pygments_lexer": "ipython3",
   "version": "3.7.3"
  }
 },
 "nbformat": 4,
 "nbformat_minor": 4
}
