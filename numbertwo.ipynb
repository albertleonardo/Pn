{
 "cells": [
  {
   "cell_type": "code",
   "execution_count": 3,
   "metadata": {},
   "outputs": [],
   "source": [
    "\n",
    "import pickle\n",
    "import scipy.stats\n",
    "import numpy as np\n",
    "import matplotlib.pyplot as plt\n",
    "\n"
   ]
  },
  {
   "cell_type": "code",
   "execution_count": 7,
   "metadata": {},
   "outputs": [],
   "source": [
    "from keras.models import Model, Sequential\n",
    "from keras.layers import Conv1D,LSTM,Bidirectional,GRU,Input,Dropout,BatchNormalization,Reshape,Activation\n"
   ]
  },
  {
   "cell_type": "code",
   "execution_count": null,
   "metadata": {},
   "outputs": [],
   "source": [
    "# load examples"
   ]
  },
  {
   "cell_type": "code",
   "execution_count": 10,
   "metadata": {},
   "outputs": [],
   "source": [
    "def generate_gaussian(length,mean,std):\n",
    "    x_values = np.arange(0,length)\n",
    "    y_values = scipy.stats.norm(mean,std)\n",
    "    y_values = y_values.pdf(x_values)\n",
    "    #re-escale to peak at one\n",
    "    y_values = y_values/np.max(y_values)\n",
    "    # truncate at 2 sigmas\n",
    "    y_truncated = np.zeros((30000))\n",
    "    y_truncated[int(mean-2*std):int(mean+2*std)] = y_values[int(mean-2*std):int(mean+2*std)]\n",
    "    \n",
    "    return y_values,y_truncated\n",
    "\n",
    "def generate_box(index1,index2):\n",
    "    y_label = np.zeros((30000))\n",
    "    end = int((index2-index1)*1.4)\n",
    "    y_label[int(index1):int(index2)+end] = 1\n",
    "    return y_label\n",
    "\n",
    "def create_training_example(filename):\n",
    "    # load the pickle file\n",
    "    a_file = open(filename,'rb')\n",
    "    data  = pickle.load(a_file)\n",
    "    x     = data['data']\n",
    "    # check if the initial phase is Pg or Pn\n",
    "    if data['Pn']!=0:\n",
    "        y = generate_box(data['Pn'],data['Sn'])\n",
    "    if data['Pg']!=0:\n",
    "        y = generate_box(data['Pg'],data['Sg'])\n",
    "    return x,y\n",
    "    "
   ]
  },
  {
   "cell_type": "code",
   "execution_count": 13,
   "metadata": {},
   "outputs": [],
   "source": [
    "x1,y1 = create_training_example('data__Pn_100.pkl')"
   ]
  },
  {
   "cell_type": "code",
   "execution_count": 17,
   "metadata": {},
   "outputs": [
    {
     "data": {
      "text/plain": [
       "(30000,)"
      ]
     },
     "execution_count": 17,
     "metadata": {},
     "output_type": "execute_result"
    }
   ],
   "source": []
  },
  {
   "cell_type": "code",
   "execution_count": null,
   "metadata": {},
   "outputs": [],
   "source": [
    "def model(input_shape):\n",
    "    \n",
    "    \n",
    "    X_input=Input(shape=input_shape)\n",
    "    \n",
    "    # A dense block\n",
    "    X = Conv1D(filters=196,kernel_size=100,stride=5)(X_input)\n",
    "    X = BatchNormalization()(X)\n",
    "    X = Activation('relu')(X)\n",
    "    X = Dropout(rate=0.8)(X)\n",
    "    \n",
    "    \n",
    "    \n",
    "    "
   ]
  }
 ],
 "metadata": {
  "kernelspec": {
   "display_name": "Python 3",
   "language": "python",
   "name": "python3"
  },
  "language_info": {
   "codemirror_mode": {
    "name": "ipython",
    "version": 3
   },
   "file_extension": ".py",
   "mimetype": "text/x-python",
   "name": "python",
   "nbconvert_exporter": "python",
   "pygments_lexer": "ipython3",
   "version": "3.7.3"
  }
 },
 "nbformat": 4,
 "nbformat_minor": 4
}
